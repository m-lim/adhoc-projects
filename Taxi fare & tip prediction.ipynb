{
 "cells": [
  {
   "cell_type": "markdown",
   "metadata": {},
   "source": [
    "# Taxi tip prediction\n",
    "*June 2021*\n",
    "\n",
    "This notebook aims to predict two target variables using the New York taxi trip dataset, namely `fare_amount` and `tip_amount`.\n",
    "\n",
    "Data cleaning and feature engineering will first be performed. Following that, three ensemble methods - Random Forest, Adaboost, Gradient Boosting - will be used. "
   ]
  },
  {
   "cell_type": "markdown",
   "metadata": {},
   "source": [
    "### Introduction\n",
    "\n",
    "We first import the relevant libraries and read in the data from the csv files."
   ]
  },
  {
   "cell_type": "code",
   "execution_count": 50,
   "metadata": {},
   "outputs": [],
   "source": [
    "import numpy as np\n",
    "import pandas as pd\n",
    "import datetime as dt\n",
    "\n",
    "from sklearn import ensemble, metrics, model_selection, preprocessing\n",
    "from matplotlib import pyplot as plt"
   ]
  },
  {
   "cell_type": "code",
   "execution_count": 51,
   "metadata": {},
   "outputs": [],
   "source": [
    "taxi_train = pd.read_csv(\"taxi-train.csv\", parse_dates=[\"pickup_datetime\", \"dropoff_datetime\"])\n",
    "taxi_test = pd.read_csv(\"taxi-test.csv\")"
   ]
  },
  {
   "cell_type": "code",
   "execution_count": 52,
   "metadata": {},
   "outputs": [
    {
     "data": {
      "text/html": [
       "<div>\n",
       "<style scoped>\n",
       "    .dataframe tbody tr th:only-of-type {\n",
       "        vertical-align: middle;\n",
       "    }\n",
       "\n",
       "    .dataframe tbody tr th {\n",
       "        vertical-align: top;\n",
       "    }\n",
       "\n",
       "    .dataframe thead th {\n",
       "        text-align: right;\n",
       "    }\n",
       "</style>\n",
       "<table border=\"1\" class=\"dataframe\">\n",
       "  <thead>\n",
       "    <tr style=\"text-align: right;\">\n",
       "      <th></th>\n",
       "      <th>vendor_id</th>\n",
       "      <th>pickup_datetime</th>\n",
       "      <th>dropoff_datetime</th>\n",
       "      <th>pickup_longitude</th>\n",
       "      <th>pickup_latitude</th>\n",
       "      <th>dropoff_longitude</th>\n",
       "      <th>dropoff_latitude</th>\n",
       "      <th>rate_code</th>\n",
       "      <th>passenger_count</th>\n",
       "      <th>trip_distance</th>\n",
       "      <th>payment_type</th>\n",
       "      <th>fare_amount</th>\n",
       "      <th>tip_amount</th>\n",
       "      <th>tip_paid</th>\n",
       "    </tr>\n",
       "  </thead>\n",
       "  <tbody>\n",
       "    <tr>\n",
       "      <th>0</th>\n",
       "      <td>CMT</td>\n",
       "      <td>2013-11-03 18:11:18+00:00</td>\n",
       "      <td>2013-11-03 18:18:43+00:00</td>\n",
       "      <td>-73.971879</td>\n",
       "      <td>40.756228</td>\n",
       "      <td>-73.971428</td>\n",
       "      <td>40.764175</td>\n",
       "      <td>1.0</td>\n",
       "      <td>1</td>\n",
       "      <td>0.80</td>\n",
       "      <td>CSH</td>\n",
       "      <td>6.5</td>\n",
       "      <td>0.00</td>\n",
       "      <td>0</td>\n",
       "    </tr>\n",
       "    <tr>\n",
       "      <th>1</th>\n",
       "      <td>CMT</td>\n",
       "      <td>2010-06-30 17:30:34+00:00</td>\n",
       "      <td>2010-06-30 17:40:44+00:00</td>\n",
       "      <td>-73.977850</td>\n",
       "      <td>40.738361</td>\n",
       "      <td>-73.977073</td>\n",
       "      <td>40.754229</td>\n",
       "      <td>1.0</td>\n",
       "      <td>1</td>\n",
       "      <td>1.50</td>\n",
       "      <td>Cre</td>\n",
       "      <td>6.9</td>\n",
       "      <td>1.88</td>\n",
       "      <td>1</td>\n",
       "    </tr>\n",
       "    <tr>\n",
       "      <th>2</th>\n",
       "      <td>CMT</td>\n",
       "      <td>2010-03-03 10:10:25+00:00</td>\n",
       "      <td>2010-03-03 10:19:38+00:00</td>\n",
       "      <td>-73.974089</td>\n",
       "      <td>40.762479</td>\n",
       "      <td>-73.990669</td>\n",
       "      <td>40.745668</td>\n",
       "      <td>1.0</td>\n",
       "      <td>1</td>\n",
       "      <td>1.60</td>\n",
       "      <td>Cre</td>\n",
       "      <td>6.9</td>\n",
       "      <td>1.00</td>\n",
       "      <td>1</td>\n",
       "    </tr>\n",
       "    <tr>\n",
       "      <th>3</th>\n",
       "      <td>VTS</td>\n",
       "      <td>2012-04-17 11:51:00+00:00</td>\n",
       "      <td>2012-04-17 12:07:00+00:00</td>\n",
       "      <td>-73.979920</td>\n",
       "      <td>40.781045</td>\n",
       "      <td>-73.970415</td>\n",
       "      <td>40.765608</td>\n",
       "      <td>1.0</td>\n",
       "      <td>1</td>\n",
       "      <td>1.70</td>\n",
       "      <td>CRD</td>\n",
       "      <td>9.7</td>\n",
       "      <td>1.94</td>\n",
       "      <td>1</td>\n",
       "    </tr>\n",
       "    <tr>\n",
       "      <th>4</th>\n",
       "      <td>VTS</td>\n",
       "      <td>2012-03-30 14:26:00+00:00</td>\n",
       "      <td>2012-03-30 14:36:00+00:00</td>\n",
       "      <td>-73.972975</td>\n",
       "      <td>40.761610</td>\n",
       "      <td>-73.955615</td>\n",
       "      <td>40.764290</td>\n",
       "      <td>1.0</td>\n",
       "      <td>2</td>\n",
       "      <td>1.36</td>\n",
       "      <td>CSH</td>\n",
       "      <td>6.9</td>\n",
       "      <td>0.00</td>\n",
       "      <td>0</td>\n",
       "    </tr>\n",
       "  </tbody>\n",
       "</table>\n",
       "</div>"
      ],
      "text/plain": [
       "  vendor_id           pickup_datetime          dropoff_datetime  \\\n",
       "0       CMT 2013-11-03 18:11:18+00:00 2013-11-03 18:18:43+00:00   \n",
       "1       CMT 2010-06-30 17:30:34+00:00 2010-06-30 17:40:44+00:00   \n",
       "2       CMT 2010-03-03 10:10:25+00:00 2010-03-03 10:19:38+00:00   \n",
       "3       VTS 2012-04-17 11:51:00+00:00 2012-04-17 12:07:00+00:00   \n",
       "4       VTS 2012-03-30 14:26:00+00:00 2012-03-30 14:36:00+00:00   \n",
       "\n",
       "   pickup_longitude  pickup_latitude  dropoff_longitude  dropoff_latitude  \\\n",
       "0        -73.971879        40.756228         -73.971428         40.764175   \n",
       "1        -73.977850        40.738361         -73.977073         40.754229   \n",
       "2        -73.974089        40.762479         -73.990669         40.745668   \n",
       "3        -73.979920        40.781045         -73.970415         40.765608   \n",
       "4        -73.972975        40.761610         -73.955615         40.764290   \n",
       "\n",
       "   rate_code  passenger_count  trip_distance payment_type  fare_amount  \\\n",
       "0        1.0                1           0.80          CSH          6.5   \n",
       "1        1.0                1           1.50          Cre          6.9   \n",
       "2        1.0                1           1.60          Cre          6.9   \n",
       "3        1.0                1           1.70          CRD          9.7   \n",
       "4        1.0                2           1.36          CSH          6.9   \n",
       "\n",
       "   tip_amount  tip_paid  \n",
       "0        0.00         0  \n",
       "1        1.88         1  \n",
       "2        1.00         1  \n",
       "3        1.94         1  \n",
       "4        0.00         0  "
      ]
     },
     "execution_count": 52,
     "metadata": {},
     "output_type": "execute_result"
    }
   ],
   "source": [
    "taxi_train.head()"
   ]
  },
  {
   "cell_type": "markdown",
   "metadata": {},
   "source": [
    "### Data cleaning\n",
    "\n",
    "We first perform some basic data cleaning on the training dataset, before it is split into train, test and validation datasets."
   ]
  },
  {
   "cell_type": "markdown",
   "metadata": {},
   "source": [
    "#### Missing values\n",
    "\n",
    "All columns except `rate_code` do not have any missing values. Since a substantial proportion of values (more than 100,000) in the `rate_code` column are missing, the column will be dropped and not included in the analysis."
   ]
  },
  {
   "cell_type": "code",
   "execution_count": 54,
   "metadata": {},
   "outputs": [
    {
     "data": {
      "text/plain": [
       "vendor_id                 0\n",
       "pickup_datetime           0\n",
       "dropoff_datetime          0\n",
       "pickup_longitude          0\n",
       "pickup_latitude           0\n",
       "dropoff_longitude         0\n",
       "dropoff_latitude          0\n",
       "rate_code            173216\n",
       "passenger_count           0\n",
       "trip_distance             0\n",
       "payment_type              0\n",
       "fare_amount               0\n",
       "tip_amount                0\n",
       "tip_paid                  0\n",
       "dtype: int64"
      ]
     },
     "execution_count": 54,
     "metadata": {},
     "output_type": "execute_result"
    }
   ],
   "source": [
    "taxi_train.isna().sum()"
   ]
  },
  {
   "cell_type": "markdown",
   "metadata": {},
   "source": [
    "#### Outliers\n",
    "\n",
    "A brief look at the variables seems to indicate that there are no significant outliers in the data that need to be cleaned - both minimum and maximum values in the `passenger_count` and `trip_distance` columns appear to be reasonable."
   ]
  },
  {
   "cell_type": "code",
   "execution_count": 53,
   "metadata": {
    "scrolled": true
   },
   "outputs": [
    {
     "data": {
      "text/html": [
       "<div>\n",
       "<style scoped>\n",
       "    .dataframe tbody tr th:only-of-type {\n",
       "        vertical-align: middle;\n",
       "    }\n",
       "\n",
       "    .dataframe tbody tr th {\n",
       "        vertical-align: top;\n",
       "    }\n",
       "\n",
       "    .dataframe thead th {\n",
       "        text-align: right;\n",
       "    }\n",
       "</style>\n",
       "<table border=\"1\" class=\"dataframe\">\n",
       "  <thead>\n",
       "    <tr style=\"text-align: right;\">\n",
       "      <th></th>\n",
       "      <th>pickup_longitude</th>\n",
       "      <th>pickup_latitude</th>\n",
       "      <th>dropoff_longitude</th>\n",
       "      <th>dropoff_latitude</th>\n",
       "      <th>rate_code</th>\n",
       "      <th>passenger_count</th>\n",
       "      <th>trip_distance</th>\n",
       "      <th>fare_amount</th>\n",
       "      <th>tip_amount</th>\n",
       "      <th>tip_paid</th>\n",
       "    </tr>\n",
       "  </thead>\n",
       "  <tbody>\n",
       "    <tr>\n",
       "      <th>count</th>\n",
       "      <td>1.071910e+06</td>\n",
       "      <td>1.071910e+06</td>\n",
       "      <td>1.071910e+06</td>\n",
       "      <td>1.071910e+06</td>\n",
       "      <td>898694.000000</td>\n",
       "      <td>1.071910e+06</td>\n",
       "      <td>1.071910e+06</td>\n",
       "      <td>1.071910e+06</td>\n",
       "      <td>1.071910e+06</td>\n",
       "      <td>1.071910e+06</td>\n",
       "    </tr>\n",
       "    <tr>\n",
       "      <th>mean</th>\n",
       "      <td>-7.397707e+01</td>\n",
       "      <td>4.075684e+01</td>\n",
       "      <td>-7.397554e+01</td>\n",
       "      <td>4.075727e+01</td>\n",
       "      <td>1.004778</td>\n",
       "      <td>1.691701e+00</td>\n",
       "      <td>1.812045e+00</td>\n",
       "      <td>8.456763e+00</td>\n",
       "      <td>7.843356e-01</td>\n",
       "      <td>4.227939e-01</td>\n",
       "    </tr>\n",
       "    <tr>\n",
       "      <th>std</th>\n",
       "      <td>1.437120e-02</td>\n",
       "      <td>1.819315e-02</td>\n",
       "      <td>1.573655e-02</td>\n",
       "      <td>1.885316e-02</td>\n",
       "      <td>0.157091</td>\n",
       "      <td>1.312070e+00</td>\n",
       "      <td>1.221569e+00</td>\n",
       "      <td>4.017411e+00</td>\n",
       "      <td>1.190242e+00</td>\n",
       "      <td>4.940035e-01</td>\n",
       "    </tr>\n",
       "    <tr>\n",
       "      <th>min</th>\n",
       "      <td>-7.400000e+01</td>\n",
       "      <td>4.070000e+01</td>\n",
       "      <td>-7.400000e+01</td>\n",
       "      <td>4.070000e+01</td>\n",
       "      <td>0.000000</td>\n",
       "      <td>1.000000e+00</td>\n",
       "      <td>1.000000e-02</td>\n",
       "      <td>2.500000e+00</td>\n",
       "      <td>0.000000e+00</td>\n",
       "      <td>0.000000e+00</td>\n",
       "    </tr>\n",
       "    <tr>\n",
       "      <th>25%</th>\n",
       "      <td>-7.398816e+01</td>\n",
       "      <td>4.074478e+01</td>\n",
       "      <td>-7.398730e+01</td>\n",
       "      <td>4.074532e+01</td>\n",
       "      <td>1.000000</td>\n",
       "      <td>1.000000e+00</td>\n",
       "      <td>9.500000e-01</td>\n",
       "      <td>5.700000e+00</td>\n",
       "      <td>0.000000e+00</td>\n",
       "      <td>0.000000e+00</td>\n",
       "    </tr>\n",
       "    <tr>\n",
       "      <th>50%</th>\n",
       "      <td>-7.397982e+01</td>\n",
       "      <td>4.075782e+01</td>\n",
       "      <td>-7.397857e+01</td>\n",
       "      <td>4.075826e+01</td>\n",
       "      <td>1.000000</td>\n",
       "      <td>1.000000e+00</td>\n",
       "      <td>1.500000e+00</td>\n",
       "      <td>7.500000e+00</td>\n",
       "      <td>0.000000e+00</td>\n",
       "      <td>0.000000e+00</td>\n",
       "    </tr>\n",
       "    <tr>\n",
       "      <th>75%</th>\n",
       "      <td>-7.396813e+01</td>\n",
       "      <td>4.076944e+01</td>\n",
       "      <td>-7.396649e+01</td>\n",
       "      <td>4.077046e+01</td>\n",
       "      <td>1.000000</td>\n",
       "      <td>2.000000e+00</td>\n",
       "      <td>2.300000e+00</td>\n",
       "      <td>1.010000e+01</td>\n",
       "      <td>1.500000e+00</td>\n",
       "      <td>1.000000e+00</td>\n",
       "    </tr>\n",
       "    <tr>\n",
       "      <th>max</th>\n",
       "      <td>-7.390001e+01</td>\n",
       "      <td>4.080000e+01</td>\n",
       "      <td>-7.390001e+01</td>\n",
       "      <td>4.080000e+01</td>\n",
       "      <td>99.000000</td>\n",
       "      <td>6.000000e+00</td>\n",
       "      <td>1.680000e+01</td>\n",
       "      <td>2.000000e+02</td>\n",
       "      <td>1.444000e+02</td>\n",
       "      <td>1.000000e+00</td>\n",
       "    </tr>\n",
       "  </tbody>\n",
       "</table>\n",
       "</div>"
      ],
      "text/plain": [
       "       pickup_longitude  pickup_latitude  dropoff_longitude  dropoff_latitude  \\\n",
       "count      1.071910e+06     1.071910e+06       1.071910e+06      1.071910e+06   \n",
       "mean      -7.397707e+01     4.075684e+01      -7.397554e+01      4.075727e+01   \n",
       "std        1.437120e-02     1.819315e-02       1.573655e-02      1.885316e-02   \n",
       "min       -7.400000e+01     4.070000e+01      -7.400000e+01      4.070000e+01   \n",
       "25%       -7.398816e+01     4.074478e+01      -7.398730e+01      4.074532e+01   \n",
       "50%       -7.397982e+01     4.075782e+01      -7.397857e+01      4.075826e+01   \n",
       "75%       -7.396813e+01     4.076944e+01      -7.396649e+01      4.077046e+01   \n",
       "max       -7.390001e+01     4.080000e+01      -7.390001e+01      4.080000e+01   \n",
       "\n",
       "           rate_code  passenger_count  trip_distance   fare_amount  \\\n",
       "count  898694.000000     1.071910e+06   1.071910e+06  1.071910e+06   \n",
       "mean        1.004778     1.691701e+00   1.812045e+00  8.456763e+00   \n",
       "std         0.157091     1.312070e+00   1.221569e+00  4.017411e+00   \n",
       "min         0.000000     1.000000e+00   1.000000e-02  2.500000e+00   \n",
       "25%         1.000000     1.000000e+00   9.500000e-01  5.700000e+00   \n",
       "50%         1.000000     1.000000e+00   1.500000e+00  7.500000e+00   \n",
       "75%         1.000000     2.000000e+00   2.300000e+00  1.010000e+01   \n",
       "max        99.000000     6.000000e+00   1.680000e+01  2.000000e+02   \n",
       "\n",
       "         tip_amount      tip_paid  \n",
       "count  1.071910e+06  1.071910e+06  \n",
       "mean   7.843356e-01  4.227939e-01  \n",
       "std    1.190242e+00  4.940035e-01  \n",
       "min    0.000000e+00  0.000000e+00  \n",
       "25%    0.000000e+00  0.000000e+00  \n",
       "50%    0.000000e+00  0.000000e+00  \n",
       "75%    1.500000e+00  1.000000e+00  \n",
       "max    1.444000e+02  1.000000e+00  "
      ]
     },
     "execution_count": 53,
     "metadata": {},
     "output_type": "execute_result"
    }
   ],
   "source": [
    "taxi_train.describe()"
   ]
  },
  {
   "cell_type": "markdown",
   "metadata": {},
   "source": [
    "#### Standardisation and one-hot encoding\n",
    "\n",
    "The `payment_type` column appears to have duplicate values. A quick check on the data source at [TLC](https://www1.nyc.gov/assets/tlc/downloads/pdf/data_dictionary_trip_records_yellow.pdf) indicates that there are 6 payment types, namely:\n",
    "\n",
    "- Credit card\n",
    "- Cash\n",
    "- No charge\n",
    "- Dispute\n",
    "- Unknown\n",
    "- Voided trip\n",
    "\n",
    "No charge, dispute, unknown and voided trip are group together to form an 'Other' group, since each category has few data points. The values in the column are standardised to reflect only these 3 categories. Since the column contains a few number of categories, one-hot encoding will be suitable."
   ]
  },
  {
   "cell_type": "code",
   "execution_count": 55,
   "metadata": {},
   "outputs": [
    {
     "data": {
      "text/plain": [
       "CSH    545180\n",
       "CRD    434636\n",
       "CAS     33097\n",
       "Cas     27046\n",
       "Cre     26436\n",
       "CRE      2856\n",
       "NOC      1142\n",
       "UNK      1035\n",
       "DIS       300\n",
       "No        131\n",
       "Dis        28\n",
       "NA         23\n",
       "Name: payment_type, dtype: int64"
      ]
     },
     "execution_count": 55,
     "metadata": {},
     "output_type": "execute_result"
    }
   ],
   "source": [
    "taxi_train['payment_type'].value_counts()"
   ]
  },
  {
   "cell_type": "code",
   "execution_count": 56,
   "metadata": {},
   "outputs": [],
   "source": [
    "corrections = {\"CSH\": \"cash\", \"CAS\": \"cash\", \"Cas\": \"cash\", \n",
    "               \"CRD\": \"credit\", \"Cre\": \"credit\", \"CRE\": \"credit\",\n",
    "               \"NOC\": \"other\", \"No \": \"other\",\n",
    "               \"UNK\": \"other\",\n",
    "               \"DIS\": \"other\",               \n",
    "               \"NA \": \"other\"\n",
    "              }\n",
    "\n",
    "taxi_train['payment_type'] = taxi_train['payment_type'].map(corrections)"
   ]
  },
  {
   "cell_type": "code",
   "execution_count": 57,
   "metadata": {},
   "outputs": [
    {
     "data": {
      "text/plain": [
       "cash      605323\n",
       "credit    463928\n",
       "other       2631\n",
       "Name: payment_type, dtype: int64"
      ]
     },
     "execution_count": 57,
     "metadata": {},
     "output_type": "execute_result"
    }
   ],
   "source": [
    "taxi_train['payment_type'].value_counts()"
   ]
  },
  {
   "cell_type": "markdown",
   "metadata": {},
   "source": [
    "One-hot encoding also appears to be suitable for the `vendor_id` column."
   ]
  },
  {
   "cell_type": "code",
   "execution_count": 58,
   "metadata": {
    "scrolled": true
   },
   "outputs": [
    {
     "data": {
      "text/plain": [
       "VTS    539286\n",
       "CMT    520331\n",
       "DDS     12293\n",
       "Name: vendor_id, dtype: int64"
      ]
     },
     "execution_count": 58,
     "metadata": {},
     "output_type": "execute_result"
    }
   ],
   "source": [
    "taxi_train['vendor_id'].value_counts()"
   ]
  },
  {
   "cell_type": "markdown",
   "metadata": {},
   "source": [
    "### Data splitting\n",
    "\n",
    "Since we have decided which columns to drop and which columns are suitable for one-hot encoding, we proceed to split the training data into `trainval` (80%) and `test` (20%) datasets.\n",
    "\n",
    "The `trainval` data will be further split into train and validation datasets after EDA and feature engineering are performed."
   ]
  },
  {
   "cell_type": "code",
   "execution_count": 59,
   "metadata": {},
   "outputs": [],
   "source": [
    "x = taxi_train.iloc[:,:-3]\n",
    "y = taxi_train.loc[:,['fare_amount', 'tip_amount']]"
   ]
  },
  {
   "cell_type": "code",
   "execution_count": 60,
   "metadata": {},
   "outputs": [],
   "source": [
    "x_trainval, x_test, y_trainval, y_test = model_selection.train_test_split(x, y, test_size=0.2, random_state=42)"
   ]
  },
  {
   "cell_type": "markdown",
   "metadata": {},
   "source": [
    "### Exploratory data analysis and feature engineering\n",
    "\n",
    "We'll focus on the `x_trainval` dataset for EDA and feature engineering."
   ]
  },
  {
   "cell_type": "markdown",
   "metadata": {},
   "source": [
    "#### Drop columns with missing values\n",
    "\n",
    "We drop the earlier identified `rate_code` column which had many missing values."
   ]
  },
  {
   "cell_type": "code",
   "execution_count": 61,
   "metadata": {},
   "outputs": [],
   "source": [
    "del x_trainval['rate_code']"
   ]
  },
  {
   "cell_type": "markdown",
   "metadata": {},
   "source": [
    "####  One-hot encoding\n",
    "\n",
    "We earlier identified two columns containing categorical data suitable for one-hot encoding, namely `payment_type` and `vendor_id`."
   ]
  },
  {
   "cell_type": "code",
   "execution_count": 62,
   "metadata": {},
   "outputs": [],
   "source": [
    "x_trainval = pd.get_dummies(x_trainval, columns = [\"payment_type\"])\n",
    "x_trainval = pd.get_dummies(x_trainval, columns = [\"vendor_id\"])"
   ]
  },
  {
   "cell_type": "markdown",
   "metadata": {},
   "source": [
    "#### Parsing date and time data\n",
    "\n",
    "Next, the following columns are added to parse the datetime columns. Pick up and drop off times are first converted to Eastern Time, which is 4 hours ahead of UTC.\n",
    "\n",
    "- Trip duration in minutes\n",
    "- Pick up hour\n",
    "- Year\n",
    "- Month\n",
    "- Day of week\n",
    "\n",
    "Year, Month and Day of week are based on the pick up date column."
   ]
  },
  {
   "cell_type": "code",
   "execution_count": 63,
   "metadata": {},
   "outputs": [],
   "source": [
    "x_trainval['pickup_datetime'] = x_trainval['pickup_datetime'] + dt.timedelta(hours = 4)\n",
    "x_trainval['dropoff_datetime'] = x_trainval['dropoff_datetime'] + dt.timedelta(hours = 4)\n",
    "\n",
    "x_trainval['trip_duration'] = (x_trainval['dropoff_datetime'] - x_trainval['pickup_datetime']).dt.total_seconds() / 60\n",
    "x_trainval['start_hour'] = x_trainval['pickup_datetime'].dt.hour\n",
    "x_trainval['year'] = x_trainval['pickup_datetime'].dt.year\n",
    "x_trainval['month'] = x_trainval['pickup_datetime'].dt.month\n",
    "x_trainval['day_of_week'] = x_trainval['pickup_datetime'].dt.dayofweek"
   ]
  },
  {
   "cell_type": "markdown",
   "metadata": {},
   "source": [
    "Since we've extracted the relevant features from the datetime columns, we'll proceed to remove these columns"
   ]
  },
  {
   "cell_type": "code",
   "execution_count": 73,
   "metadata": {},
   "outputs": [],
   "source": [
    "del x_trainval['pickup_datetime']\n",
    "del x_trainval['dropoff_datetime']"
   ]
  },
  {
   "cell_type": "code",
   "execution_count": 74,
   "metadata": {
    "scrolled": false
   },
   "outputs": [
    {
     "data": {
      "text/html": [
       "<div>\n",
       "<style scoped>\n",
       "    .dataframe tbody tr th:only-of-type {\n",
       "        vertical-align: middle;\n",
       "    }\n",
       "\n",
       "    .dataframe tbody tr th {\n",
       "        vertical-align: top;\n",
       "    }\n",
       "\n",
       "    .dataframe thead th {\n",
       "        text-align: right;\n",
       "    }\n",
       "</style>\n",
       "<table border=\"1\" class=\"dataframe\">\n",
       "  <thead>\n",
       "    <tr style=\"text-align: right;\">\n",
       "      <th></th>\n",
       "      <th>pickup_longitude</th>\n",
       "      <th>pickup_latitude</th>\n",
       "      <th>dropoff_longitude</th>\n",
       "      <th>dropoff_latitude</th>\n",
       "      <th>passenger_count</th>\n",
       "      <th>trip_distance</th>\n",
       "      <th>payment_type_cash</th>\n",
       "      <th>payment_type_credit</th>\n",
       "      <th>payment_type_other</th>\n",
       "      <th>vendor_id_CMT</th>\n",
       "      <th>vendor_id_DDS</th>\n",
       "      <th>vendor_id_VTS</th>\n",
       "      <th>trip_duration</th>\n",
       "      <th>start_hour</th>\n",
       "      <th>year</th>\n",
       "      <th>month</th>\n",
       "      <th>day_of_week</th>\n",
       "    </tr>\n",
       "  </thead>\n",
       "  <tbody>\n",
       "    <tr>\n",
       "      <th>890912</th>\n",
       "      <td>-73.957390</td>\n",
       "      <td>40.782142</td>\n",
       "      <td>-73.953657</td>\n",
       "      <td>40.778632</td>\n",
       "      <td>6</td>\n",
       "      <td>0.40</td>\n",
       "      <td>1</td>\n",
       "      <td>0</td>\n",
       "      <td>0</td>\n",
       "      <td>0</td>\n",
       "      <td>0</td>\n",
       "      <td>1</td>\n",
       "      <td>3.000000</td>\n",
       "      <td>21</td>\n",
       "      <td>2014</td>\n",
       "      <td>5</td>\n",
       "      <td>0</td>\n",
       "    </tr>\n",
       "    <tr>\n",
       "      <th>67095</th>\n",
       "      <td>-73.977510</td>\n",
       "      <td>40.753517</td>\n",
       "      <td>-73.968020</td>\n",
       "      <td>40.759915</td>\n",
       "      <td>6</td>\n",
       "      <td>0.93</td>\n",
       "      <td>1</td>\n",
       "      <td>0</td>\n",
       "      <td>0</td>\n",
       "      <td>0</td>\n",
       "      <td>0</td>\n",
       "      <td>1</td>\n",
       "      <td>8.000000</td>\n",
       "      <td>22</td>\n",
       "      <td>2013</td>\n",
       "      <td>3</td>\n",
       "      <td>2</td>\n",
       "    </tr>\n",
       "    <tr>\n",
       "      <th>341589</th>\n",
       "      <td>-73.997130</td>\n",
       "      <td>40.744120</td>\n",
       "      <td>-73.986122</td>\n",
       "      <td>40.728143</td>\n",
       "      <td>1</td>\n",
       "      <td>1.70</td>\n",
       "      <td>1</td>\n",
       "      <td>0</td>\n",
       "      <td>0</td>\n",
       "      <td>1</td>\n",
       "      <td>0</td>\n",
       "      <td>0</td>\n",
       "      <td>7.950000</td>\n",
       "      <td>5</td>\n",
       "      <td>2013</td>\n",
       "      <td>7</td>\n",
       "      <td>6</td>\n",
       "    </tr>\n",
       "    <tr>\n",
       "      <th>139057</th>\n",
       "      <td>-73.981953</td>\n",
       "      <td>40.778552</td>\n",
       "      <td>-73.981857</td>\n",
       "      <td>40.755243</td>\n",
       "      <td>1</td>\n",
       "      <td>1.90</td>\n",
       "      <td>1</td>\n",
       "      <td>0</td>\n",
       "      <td>0</td>\n",
       "      <td>1</td>\n",
       "      <td>0</td>\n",
       "      <td>0</td>\n",
       "      <td>8.900000</td>\n",
       "      <td>11</td>\n",
       "      <td>2009</td>\n",
       "      <td>4</td>\n",
       "      <td>3</td>\n",
       "    </tr>\n",
       "    <tr>\n",
       "      <th>762690</th>\n",
       "      <td>-73.957855</td>\n",
       "      <td>40.769614</td>\n",
       "      <td>-73.967636</td>\n",
       "      <td>40.763782</td>\n",
       "      <td>1</td>\n",
       "      <td>0.80</td>\n",
       "      <td>1</td>\n",
       "      <td>0</td>\n",
       "      <td>0</td>\n",
       "      <td>1</td>\n",
       "      <td>0</td>\n",
       "      <td>0</td>\n",
       "      <td>3.433333</td>\n",
       "      <td>1</td>\n",
       "      <td>2009</td>\n",
       "      <td>3</td>\n",
       "      <td>4</td>\n",
       "    </tr>\n",
       "  </tbody>\n",
       "</table>\n",
       "</div>"
      ],
      "text/plain": [
       "        pickup_longitude  pickup_latitude  dropoff_longitude  \\\n",
       "890912        -73.957390        40.782142         -73.953657   \n",
       "67095         -73.977510        40.753517         -73.968020   \n",
       "341589        -73.997130        40.744120         -73.986122   \n",
       "139057        -73.981953        40.778552         -73.981857   \n",
       "762690        -73.957855        40.769614         -73.967636   \n",
       "\n",
       "        dropoff_latitude  passenger_count  trip_distance  payment_type_cash  \\\n",
       "890912         40.778632                6           0.40                  1   \n",
       "67095          40.759915                6           0.93                  1   \n",
       "341589         40.728143                1           1.70                  1   \n",
       "139057         40.755243                1           1.90                  1   \n",
       "762690         40.763782                1           0.80                  1   \n",
       "\n",
       "        payment_type_credit  payment_type_other  vendor_id_CMT  vendor_id_DDS  \\\n",
       "890912                    0                   0              0              0   \n",
       "67095                     0                   0              0              0   \n",
       "341589                    0                   0              1              0   \n",
       "139057                    0                   0              1              0   \n",
       "762690                    0                   0              1              0   \n",
       "\n",
       "        vendor_id_VTS  trip_duration  start_hour  year  month  day_of_week  \n",
       "890912              1       3.000000          21  2014      5            0  \n",
       "67095               1       8.000000          22  2013      3            2  \n",
       "341589              0       7.950000           5  2013      7            6  \n",
       "139057              0       8.900000          11  2009      4            3  \n",
       "762690              0       3.433333           1  2009      3            4  "
      ]
     },
     "execution_count": 74,
     "metadata": {},
     "output_type": "execute_result"
    }
   ],
   "source": [
    "x_trainval.head()"
   ]
  },
  {
   "cell_type": "markdown",
   "metadata": {},
   "source": [
    "#### Data visualisation\n",
    "\n",
    "Next, we take a look at the correlation of each variable to both the fare amount and tip amount."
   ]
  },
  {
   "cell_type": "code",
   "execution_count": 75,
   "metadata": {},
   "outputs": [
    {
     "data": {
      "text/plain": [
       "Text(0.5, 1.0, 'Correlation with Fare Amount')"
      ]
     },
     "execution_count": 75,
     "metadata": {},
     "output_type": "execute_result"
    },
    {
     "data": {
      "image/png": "[encoded data removed]",
      "text/plain": [
       "<Figure size 432x288 with 1 Axes>"
      ]
     },
     "metadata": {
      "needs_background": "light"
     },
     "output_type": "display_data"
    }
   ],
   "source": [
    "x_trainval.corrwith(y_trainval[\"fare_amount\"]).sort_values(ascending = False).plot.bar()\n",
    "plt.title('Correlation with Fare Amount')"
   ]
  },
  {
   "cell_type": "markdown",
   "metadata": {},
   "source": [
    "The variables with the highest correlation with fare amount are not particularly surprising - as expected, trip distance and trip duration are the most positively correlated with the fare amount. \n",
    "\n",
    "The year variable is positively correlated with fare amount, possibly due to inflationary effects through the years. Interestingly, credit card payments are also positively correlated with the fare amount, while the inverse is true for cash payments. One hypothesis may be that individuals paying via credit card may be more affluent, and hence are able and willing to take taxi trips for greater distances.\n",
    "\n",
    "Lastly, both pick up and drop off latitude are negatively correlated with fare amount - this could be due to the locations of various neighbourhoods and the differences in demographics (e.g., the Financial District is located downtown, where business trips may take place).\n",
    "\n",
    "We'll take a look at correlations with tip amounts next."
   ]
  },
  {
   "cell_type": "code",
   "execution_count": 76,
   "metadata": {},
   "outputs": [
    {
     "data": {
      "text/plain": [
       "Text(0.5, 1.0, 'Correlation with Tip Amount')"
      ]
     },
     "execution_count": 76,
     "metadata": {},
     "output_type": "execute_result"
    },
    {
     "data": {
      "image/png": "[encoded data removed]",
      "text/plain": [
       "<Figure size 432x288 with 1 Axes>"
      ]
     },
     "metadata": {
      "needs_background": "light"
     },
     "output_type": "display_data"
    }
   ],
   "source": [
    "x_trainval.corrwith(y_trainval[\"tip_amount\"]).sort_values(ascending = False).plot.bar()\n",
    "plt.title('Correlation with Tip Amount')"
   ]
  },
  {
   "cell_type": "markdown",
   "metadata": {},
   "source": [
    "Perhaps unsurprisingly, the variables with the highest correlation with tip amount are credit card and cash payments. This intuitively makes sense as the process of tipping is much easier when card payments are performed, as the tip percentages can be automatically calculated and added to the total fare as the card payment is made.\n",
    "\n",
    "Other key factors include trip distance - tips are likely to be proportional to the fare amount, which is highly correlated to the distance of the trip. Due to inflationary effects, year is also positively correlated with tip amounts. "
   ]
  },
  {
   "cell_type": "markdown",
   "metadata": {},
   "source": [
    "#### Data splitting\n",
    "\n",
    "Since we have completed EDA and feature engineering, we'll proceed to further split the `trainval` dataset into training and validation datasets. \n",
    "\n",
    "The data has been split into 85% training, 25% validation, such that the final split between training, test and validation is 60%, 20% and 20%."
   ]
  },
  {
   "cell_type": "code",
   "execution_count": 78,
   "metadata": {},
   "outputs": [],
   "source": [
    "x_train, x_val, y_train, y_val = model_selection.train_test_split(x_trainval, y_trainval, test_size=0.25, random_state=42)"
   ]
  },
  {
   "cell_type": "markdown",
   "metadata": {},
   "source": [
    "#### Performing feature engineering on test data\n",
    "\n",
    "Lastly, before the modelling step, we perform the same feature engineering steps on the test data."
   ]
  },
  {
   "cell_type": "code",
   "execution_count": 91,
   "metadata": {},
   "outputs": [],
   "source": [
    "del x_test['rate_code']\n",
    "\n",
    "x_test = pd.get_dummies(x_test, columns = [\"payment_type\"])\n",
    "x_test = pd.get_dummies(x_test, columns = [\"vendor_id\"])\n",
    "\n",
    "x_test['pickup_datetime'] = x_test['pickup_datetime'] + dt.timedelta(hours = 4)\n",
    "x_test['dropoff_datetime'] = x_test['dropoff_datetime'] + dt.timedelta(hours = 4)\n",
    "x_test['trip_duration'] = (x_test['dropoff_datetime'] - x_test['pickup_datetime']).dt.total_seconds() / 60\n",
    "x_test['start_hour'] = x_test['pickup_datetime'].dt.hour\n",
    "x_test['year'] = x_test['pickup_datetime'].dt.year\n",
    "x_test['month'] = x_test['pickup_datetime'].dt.month\n",
    "x_test['day_of_week'] = x_test['pickup_datetime'].dt.dayofweek\n",
    "\n",
    "del x_test['pickup_datetime']\n",
    "del x_test['dropoff_datetime']"
   ]
  },
  {
   "cell_type": "markdown",
   "metadata": {},
   "source": [
    "### Modelling\n",
    "\n",
    "We next move on to modelling. Three ensemble models will be used, namely:\n",
    "\n",
    "- Random Forest Regressor\n",
    "- AdaBoost Regressor\n",
    "- Gradient Boosting Regressor"
   ]
  },
  {
   "cell_type": "markdown",
   "metadata": {},
   "source": [
    "#### Random Forest Regressor\n",
    "\n",
    "We first run a baseline random forest model with `n_estimators` = 10, with RMSE being the objective metric."
   ]
  },
  {
   "cell_type": "code",
   "execution_count": 80,
   "metadata": {},
   "outputs": [
    {
     "name": "stdout",
     "output_type": "stream",
     "text": [
      "RMSE:  1.2609065480754478\n"
     ]
    }
   ],
   "source": [
    "# Fare prediction - baseline model\n",
    "\n",
    "rforest_f = ensemble.RandomForestRegressor(n_estimators = 10, random_state = 42)\n",
    "rforest_f.fit(x_train, y_train[\"fare_amount\"])\n",
    "\n",
    "y_pred_f = rforest_f.predict(x_val)\n",
    "rmse = metrics.mean_squared_error(y_pred_f, y_val[\"fare_amount\"], squared = False)\n",
    "print(\"RMSE: \", rmse)"
   ]
  },
  {
   "cell_type": "code",
   "execution_count": 81,
   "metadata": {},
   "outputs": [
    {
     "name": "stdout",
     "output_type": "stream",
     "text": [
      "RMSE:  0.7585557387895477\n"
     ]
    }
   ],
   "source": [
    "# Tip prediction - baseline model\n",
    "\n",
    "rforest_t = ensemble.RandomForestRegressor(n_estimators = 10, random_state = 42)\n",
    "rforest_t.fit(x_train, y_train[\"tip_amount\"])\n",
    "\n",
    "y_pred_t = rforest_t.predict(x_val)\n",
    "rmse = metrics.mean_squared_error(y_pred_t, y_val[\"tip_amount\"], squared = False)\n",
    "print(\"RMSE: \", rmse)"
   ]
  },
  {
   "cell_type": "markdown",
   "metadata": {},
   "source": [
    "Since the parameter space is large, we use `RandomizedSearchCV` to determine the optimal hyperparameters for the random forest. While Grid Search performs an exhaustive search, it can be inefficient. In contrast, Random Search selects random combinations of hyperparameter values, and has been shown to be able to pick the best results at a fraction of the time taken by Grid Search.\n",
    "\n",
    "In addition, since performing Random Search is extremely computationally expensive, we'll use a subset of the training data in order to speed up the process. Once the best hyperparameter option is found, we will retrain the model with the full training data."
   ]
  },
  {
   "cell_type": "code",
   "execution_count": 82,
   "metadata": {},
   "outputs": [
    {
     "name": "stdout",
     "output_type": "stream",
     "text": [
      "{'n_estimators': [10, 20, 30, 40, 50, 60, 70, 80, 90, 100, 110, 120, 130, 140, 150, 160, 170, 180, 190, 200], 'max_depth': [None, 10, 20, 30, 40, 50, 60, 70, 80, 90, 100], 'max_features': ['auto', 'sqrt'], 'min_samples_split': [2, 5, 10], 'bootstrap': [True, False]}\n"
     ]
    }
   ],
   "source": [
    "param_grid = {\n",
    "    # Number of trees in random forest\n",
    "    'n_estimators': [int(x) for x in np.linspace(start = 10, stop = 200, num = 20)],\n",
    "    # Maximum number of levels in tree\n",
    "    'max_depth': [None] + list(np.linspace(10, 100, num = 10).astype(int)),\n",
    "    # Number of features to consider at each split\n",
    "    'max_features': ['auto', 'sqrt'],\n",
    "    # Minimum number of samples to split a node\n",
    "    'min_samples_split': [2, 5, 10],\n",
    "    # Whether bootstrap samples are used\n",
    "    'bootstrap': [True, False]\n",
    "}\n",
    "\n",
    "print(param_grid)"
   ]
  },
  {
   "cell_type": "code",
   "execution_count": 83,
   "metadata": {},
   "outputs": [
    {
     "name": "stdout",
     "output_type": "stream",
     "text": [
      "Fitting 3 folds for each of 50 candidates, totalling 150 fits\n"
     ]
    },
    {
     "name": "stderr",
     "output_type": "stream",
     "text": [
      "[Parallel(n_jobs=-1)]: Using backend LokyBackend with 8 concurrent workers.\n",
      "[Parallel(n_jobs=-1)]: Done  25 tasks      | elapsed:  3.9min\n",
      "[Parallel(n_jobs=-1)]: Done 150 out of 150 | elapsed: 32.1min finished\n"
     ]
    },
    {
     "data": {
      "text/plain": [
       "RandomizedSearchCV(cv=3, estimator=RandomForestRegressor(), n_iter=50,\n",
       "                   n_jobs=-1,\n",
       "                   param_distributions={'bootstrap': [True, False],\n",
       "                                        'max_depth': [None, 10, 20, 30, 40, 50,\n",
       "                                                      60, 70, 80, 90, 100],\n",
       "                                        'max_features': ['auto', 'sqrt'],\n",
       "                                        'min_samples_split': [2, 5, 10],\n",
       "                                        'n_estimators': [10, 20, 30, 40, 50, 60,\n",
       "                                                         70, 80, 90, 100, 110,\n",
       "                                                         120, 130, 140, 150,\n",
       "                                                         160, 170, 180, 190,\n",
       "                                                         200]},\n",
       "                   random_state=42, scoring='neg_root_mean_squared_error',\n",
       "                   verbose=2)"
      ]
     },
     "execution_count": 83,
     "metadata": {},
     "output_type": "execute_result"
    }
   ],
   "source": [
    "# Fare prediction - random search\n",
    "\n",
    "rs_x_data = x_trainval.sample(100_000, random_state = 42)\n",
    "rs_y_data = y_trainval[\"fare_amount\"].sample(100_000, random_state = 42)\n",
    "\n",
    "rforest_f_rs = model_selection.RandomizedSearchCV(ensemble.RandomForestRegressor(), param_grid, n_jobs = -1, \n",
    "                                                  scoring = 'neg_root_mean_squared_error', cv = 3, \n",
    "                                                  n_iter = 50, verbose = 2, random_state=42)\n",
    "\n",
    "rforest_f_rs.fit(rs_x_data, rs_y_data)"
   ]
  },
  {
   "cell_type": "code",
   "execution_count": 84,
   "metadata": {},
   "outputs": [
    {
     "name": "stdout",
     "output_type": "stream",
     "text": [
      "Best score:  -1.1686708911427168\n",
      "Best parameters:  {'n_estimators': 200, 'min_samples_split': 5, 'max_features': 'sqrt', 'max_depth': 50, 'bootstrap': False}\n"
     ]
    }
   ],
   "source": [
    "print(\"Best score: \", rforest_f_rs.best_score_)\n",
    "print(\"Best parameters: \", rforest_f_rs.best_params_)"
   ]
  },
  {
   "cell_type": "code",
   "execution_count": 86,
   "metadata": {},
   "outputs": [
    {
     "name": "stdout",
     "output_type": "stream",
     "text": [
      "Fitting 3 folds for each of 30 candidates, totalling 90 fits\n"
     ]
    },
    {
     "name": "stderr",
     "output_type": "stream",
     "text": [
      "[Parallel(n_jobs=-1)]: Using backend LokyBackend with 8 concurrent workers.\n",
      "[Parallel(n_jobs=-1)]: Done  25 tasks      | elapsed:  2.5min\n",
      "[Parallel(n_jobs=-1)]: Done  90 out of  90 | elapsed: 14.3min finished\n"
     ]
    },
    {
     "data": {
      "text/plain": [
       "RandomizedSearchCV(cv=3, estimator=RandomForestRegressor(), n_iter=30,\n",
       "                   n_jobs=-1,\n",
       "                   param_distributions={'bootstrap': [True, False],\n",
       "                                        'max_depth': [None, 10, 20, 30, 40, 50,\n",
       "                                                      60, 70, 80, 90, 100],\n",
       "                                        'max_features': ['auto', 'sqrt'],\n",
       "                                        'min_samples_split': [2, 5, 10],\n",
       "                                        'n_estimators': [10, 20, 30, 40, 50, 60,\n",
       "                                                         70, 80, 90, 100, 110,\n",
       "                                                         120, 130, 140, 150,\n",
       "                                                         160, 170, 180, 190,\n",
       "                                                         200]},\n",
       "                   random_state=42, scoring='neg_root_mean_squared_error',\n",
       "                   verbose=2)"
      ]
     },
     "execution_count": 86,
     "metadata": {},
     "output_type": "execute_result"
    }
   ],
   "source": [
    "# Tip prediction - random search\n",
    "\n",
    "rs_x_data = x_trainval.sample(100_000, random_state = 42)\n",
    "rs_y_data = y_trainval[\"tip_amount\"].sample(100_000, random_state = 42)\n",
    "\n",
    "rforest_t_rs = model_selection.RandomizedSearchCV(ensemble.RandomForestRegressor(), param_grid, n_jobs = -1, \n",
    "                                                  scoring = 'neg_root_mean_squared_error', cv = 3, \n",
    "                                                  n_iter = 30, verbose = 2, random_state=42)\n",
    "\n",
    "rforest_t_rs.fit(rs_x_data, rs_y_data)"
   ]
  },
  {
   "cell_type": "code",
   "execution_count": 87,
   "metadata": {},
   "outputs": [
    {
     "name": "stdout",
     "output_type": "stream",
     "text": [
      "Best score:  -0.6690128573483931\n",
      "Best parameters:  {'n_estimators': 190, 'min_samples_split': 10, 'max_features': 'sqrt', 'max_depth': 30, 'bootstrap': True}\n"
     ]
    }
   ],
   "source": [
    "print(\"Best score: \", rforest_t_rs.best_score_)\n",
    "print(\"Best parameters: \", rforest_t_rs.best_params_)"
   ]
  },
  {
   "cell_type": "markdown",
   "metadata": {},
   "source": [
    "Once we have obtained the optimal hyperparameters, we train the random forest model on the full dataset to predict both fare and tip amounts."
   ]
  },
  {
   "cell_type": "code",
   "execution_count": 92,
   "metadata": {},
   "outputs": [
    {
     "name": "stdout",
     "output_type": "stream",
     "text": [
      "RMSE (validation data):  1.1382573212283775\n",
      "RMSE (test data):  1.05972179097739\n"
     ]
    }
   ],
   "source": [
    "# Fare prediction - final model\n",
    "\n",
    "rforest_f_final = ensemble.RandomForestRegressor(n_estimators = 200, min_samples_split = 5, max_features = 'sqrt',\n",
    "                                                 max_depth = 50, bootstrap = False, random_state = 42)\n",
    "\n",
    "rforest_f_final.fit(x_train, y_train[\"fare_amount\"])\n",
    "\n",
    "y_pred_f_val = rforest_f_final.predict(x_val)\n",
    "rmse = metrics.mean_squared_error(y_pred_f_val, y_val[\"fare_amount\"], squared = False)\n",
    "print(\"RMSE (validation data): \", rmse)\n",
    "\n",
    "y_pred_f_test = rforest_f_final.predict(x_test)\n",
    "rmse = metrics.mean_squared_error(y_pred_f_test, y_test[\"fare_amount\"], squared = False)\n",
    "print(\"RMSE (test data): \", rmse)"
   ]
  },
  {
   "cell_type": "code",
   "execution_count": 93,
   "metadata": {},
   "outputs": [
    {
     "name": "stdout",
     "output_type": "stream",
     "text": [
      "RMSE (validation data):  0.7098668984904992\n",
      "RMSE (test data):  0.5723543949540788\n"
     ]
    }
   ],
   "source": [
    "# Tip prediction - final model\n",
    "\n",
    "rforest_t_final = ensemble.RandomForestRegressor(n_estimators = 190, min_samples_split = 10, max_features = 'sqrt',\n",
    "                                                 max_depth = 30, bootstrap = True, random_state = 42)\n",
    "\n",
    "rforest_t_final.fit(x_train, y_train[\"tip_amount\"])\n",
    "\n",
    "y_pred_t_val = rforest_t_final.predict(x_val)\n",
    "rmse = metrics.mean_squared_error(y_pred_t_val, y_val[\"tip_amount\"], squared = False)\n",
    "print(\"RMSE (validation data): \", rmse)\n",
    "\n",
    "y_pred_t_test = rforest_t_final.predict(x_test)\n",
    "rmse = metrics.mean_squared_error(y_pred_t_test, y_test[\"tip_amount\"], squared = False)\n",
    "print(\"RMSE (test data): \", rmse)"
   ]
  },
  {
   "cell_type": "markdown",
   "metadata": {},
   "source": [
    "We can extract the importance of each feature of the final model."
   ]
  },
  {
   "cell_type": "code",
   "execution_count": 95,
   "metadata": {},
   "outputs": [
    {
     "data": {
      "text/plain": [
       "Text(0.5, 0, 'Random Forest Feature Importance (Fare Prediction)')"
      ]
     },
     "execution_count": 95,
     "metadata": {},
     "output_type": "execute_result"
    },
    {
     "data": {
      "image/png": "[encoded data removed]",
      "text/plain": [
       "<Figure size 432x288 with 1 Axes>"
      ]
     },
     "metadata": {
      "needs_background": "light"
     },
     "output_type": "display_data"
    }
   ],
   "source": [
    "# Fare prediction - feature importance\n",
    "\n",
    "sorted_idx = rforest_f_final.feature_importances_.argsort()\n",
    "plt.barh(x_val.columns[sorted_idx], rforest_f_final.feature_importances_[sorted_idx])\n",
    "plt.xlabel(\"Random Forest Feature Importance (Fare Prediction)\")"
   ]
  },
  {
   "cell_type": "code",
   "execution_count": 97,
   "metadata": {},
   "outputs": [
    {
     "data": {
      "text/plain": [
       "Text(0.5, 0, 'Random Forest Feature Importance (Tip Prediction)')"
      ]
     },
     "execution_count": 97,
     "metadata": {},
     "output_type": "execute_result"
    },
    {
     "data": {
      "image/png": "[encoded data removed]",
      "text/plain": [
       "<Figure size 432x288 with 1 Axes>"
      ]
     },
     "metadata": {
      "needs_background": "light"
     },
     "output_type": "display_data"
    }
   ],
   "source": [
    "# Tip prediction - feature importance\n",
    "\n",
    "sorted_idx = rforest_t_final.feature_importances_.argsort()\n",
    "plt.barh(x_val.columns[sorted_idx], rforest_t_final.feature_importances_[sorted_idx])\n",
    "plt.xlabel(\"Random Forest Feature Importance (Tip Prediction)\")"
   ]
  },
  {
   "cell_type": "markdown",
   "metadata": {},
   "source": [
    "##### Summary\n",
    "\n",
    "**Random Forest**\n",
    "\n",
    "Objective metric on test:\n",
    "\n",
    "- Fare prediction: RMSE = 1.0597\n",
    "- Tip prediction: RMSE = 0.5724\n",
    "\n",
    "Parameters: \n",
    "\n",
    "- Fare prediction: n_estimators = 200, min_samples_split = 5, max_features = 'sqrt', max_depth = 50, bootstrap = False\n",
    "- Tip prediction: n_estimators = 190, min_samples_split = 10, max_features = 'sqrt', max_depth = 30, bootstrap = True\n",
    "\n",
    "Top 5 features:\n",
    "\n",
    "- Fare prediction: trip duration, trip distance, year, drop-off longitude, drop-off latitude\n",
    "- Tip prediction: payment type (cash), payment type (credit), trip duration, trip distance, drop-off longitude"
   ]
  },
  {
   "cell_type": "markdown",
   "metadata": {},
   "source": [
    "#### AdaBoost Regressor\n",
    "\n",
    "We perform the same steps for the AdaBoost Regressor."
   ]
  },
  {
   "cell_type": "code",
   "execution_count": 98,
   "metadata": {},
   "outputs": [
    {
     "name": "stdout",
     "output_type": "stream",
     "text": [
      "RMSE:  9.118481664280985\n"
     ]
    }
   ],
   "source": [
    "# Fare prediction - baseline model\n",
    "\n",
    "adaboost_f = ensemble.AdaBoostRegressor(random_state = 42)\n",
    "adaboost_f.fit(x_train, y_train[\"fare_amount\"])\n",
    "\n",
    "y_pred_f = adaboost_f.predict(x_val)\n",
    "rmse = metrics.mean_squared_error(y_pred_f, y_val[\"fare_amount\"], squared = False)\n",
    "print(\"RMSE: \", rmse)"
   ]
  },
  {
   "cell_type": "code",
   "execution_count": 99,
   "metadata": {},
   "outputs": [
    {
     "name": "stdout",
     "output_type": "stream",
     "text": [
      "RMSE:  6.7700682554835865\n"
     ]
    }
   ],
   "source": [
    "# Tip prediction - baseline model\n",
    "\n",
    "adaboost_t = ensemble.AdaBoostRegressor(random_state = 42)\n",
    "adaboost_t.fit(x_train, y_train[\"tip_amount\"])\n",
    "\n",
    "y_pred_t = adaboost_t.predict(x_val)\n",
    "rmse = metrics.mean_squared_error(y_pred_t, y_val[\"tip_amount\"], squared = False)\n",
    "print(\"RMSE: \", rmse)"
   ]
  },
  {
   "cell_type": "code",
   "execution_count": 100,
   "metadata": {},
   "outputs": [
    {
     "name": "stdout",
     "output_type": "stream",
     "text": [
      "{'n_estimators': [10, 20, 50, 100, 150, 200, 250, 300], 'learning_rate': [0.0001, 0.001, 0.01, 0.05, 0.1, 0.5, 1], 'loss': ['linear', 'square', 'exponential']}\n"
     ]
    }
   ],
   "source": [
    "param_grid = {\n",
    "    # Maximum number of estimators at which boosting is terminated\n",
    "    'n_estimators': [10, 20, 50, 100, 150, 200, 250, 300],\n",
    "    # Learning rate\n",
    "    'learning_rate': [0.0001, 0.001, 0.01, 0.05, 0.1, 0.5, 1],\n",
    "    # Loss function\n",
    "    'loss' : ['linear', 'square', 'exponential'],\n",
    "}\n",
    "\n",
    "print(param_grid)"
   ]
  },
  {
   "cell_type": "code",
   "execution_count": 101,
   "metadata": {},
   "outputs": [
    {
     "name": "stdout",
     "output_type": "stream",
     "text": [
      "Fitting 3 folds for each of 30 candidates, totalling 90 fits\n"
     ]
    },
    {
     "name": "stderr",
     "output_type": "stream",
     "text": [
      "[Parallel(n_jobs=-1)]: Using backend LokyBackend with 8 concurrent workers.\n",
      "[Parallel(n_jobs=-1)]: Done  25 tasks      | elapsed:  3.6min\n",
      "[Parallel(n_jobs=-1)]: Done  90 out of  90 | elapsed: 11.4min finished\n"
     ]
    },
    {
     "data": {
      "text/plain": [
       "RandomizedSearchCV(cv=3, estimator=AdaBoostRegressor(), n_iter=30, n_jobs=-1,\n",
       "                   param_distributions={'learning_rate': [0.0001, 0.001, 0.01,\n",
       "                                                          0.05, 0.1, 0.5, 1],\n",
       "                                        'loss': ['linear', 'square',\n",
       "                                                 'exponential'],\n",
       "                                        'n_estimators': [10, 20, 50, 100, 150,\n",
       "                                                         200, 250, 300]},\n",
       "                   random_state=42, scoring='neg_root_mean_squared_error',\n",
       "                   verbose=2)"
      ]
     },
     "execution_count": 101,
     "metadata": {},
     "output_type": "execute_result"
    }
   ],
   "source": [
    "# Fare prediction - random search\n",
    "\n",
    "ada_x_data = x_trainval.sample(100_000, random_state = 42)\n",
    "ada_y_data = y_trainval[\"fare_amount\"].sample(100_000, random_state = 42)\n",
    "\n",
    "adaboost_f_rs = model_selection.RandomizedSearchCV(ensemble.AdaBoostRegressor(), param_grid, n_jobs = -1, \n",
    "                                                  scoring = 'neg_root_mean_squared_error', cv = 3, \n",
    "                                                  n_iter = 30, verbose = 2, random_state=42)\n",
    "\n",
    "adaboost_f_rs.fit(ada_x_data, ada_y_data)"
   ]
  },
  {
   "cell_type": "code",
   "execution_count": 102,
   "metadata": {},
   "outputs": [
    {
     "name": "stdout",
     "output_type": "stream",
     "text": [
      "Best score:  -1.6972859257180917\n",
      "Best parameters:  {'n_estimators': 150, 'loss': 'exponential', 'learning_rate': 0.01}\n"
     ]
    }
   ],
   "source": [
    "print(\"Best score: \", adaboost_f_rs.best_score_)\n",
    "print(\"Best parameters: \", adaboost_f_rs.best_params_)"
   ]
  },
  {
   "cell_type": "code",
   "execution_count": 103,
   "metadata": {},
   "outputs": [
    {
     "name": "stdout",
     "output_type": "stream",
     "text": [
      "Fitting 3 folds for each of 30 candidates, totalling 90 fits\n"
     ]
    },
    {
     "name": "stderr",
     "output_type": "stream",
     "text": [
      "[Parallel(n_jobs=-1)]: Using backend LokyBackend with 8 concurrent workers.\n",
      "[Parallel(n_jobs=-1)]: Done  25 tasks      | elapsed:  3.2min\n",
      "[Parallel(n_jobs=-1)]: Done  90 out of  90 | elapsed: 11.5min finished\n"
     ]
    },
    {
     "data": {
      "text/plain": [
       "RandomizedSearchCV(cv=3, estimator=AdaBoostRegressor(), n_iter=30, n_jobs=-1,\n",
       "                   param_distributions={'learning_rate': [0.0001, 0.001, 0.01,\n",
       "                                                          0.05, 0.1, 0.5, 1],\n",
       "                                        'loss': ['linear', 'square',\n",
       "                                                 'exponential'],\n",
       "                                        'n_estimators': [10, 20, 50, 100, 150,\n",
       "                                                         200, 250, 300]},\n",
       "                   random_state=42, scoring='neg_root_mean_squared_error',\n",
       "                   verbose=2)"
      ]
     },
     "execution_count": 103,
     "metadata": {},
     "output_type": "execute_result"
    }
   ],
   "source": [
    "# Tip prediction - random search\n",
    "\n",
    "ada_x_data = x_trainval.sample(100_000, random_state = 42)\n",
    "ada_y_data = y_trainval[\"tip_amount\"].sample(100_000, random_state = 42)\n",
    "\n",
    "adaboost_t_rs = model_selection.RandomizedSearchCV(ensemble.AdaBoostRegressor(), param_grid, n_jobs = -1, \n",
    "                                                  scoring = 'neg_root_mean_squared_error', cv = 3, \n",
    "                                                  n_iter = 30, verbose = 2, random_state=42)\n",
    "\n",
    "adaboost_t_rs.fit(ada_x_data, ada_y_data)"
   ]
  },
  {
   "cell_type": "code",
   "execution_count": 104,
   "metadata": {},
   "outputs": [
    {
     "name": "stdout",
     "output_type": "stream",
     "text": [
      "Best score:  -0.6988213045301063\n",
      "Best parameters:  {'n_estimators': 250, 'loss': 'linear', 'learning_rate': 0.001}\n"
     ]
    }
   ],
   "source": [
    "print(\"Best score: \", adaboost_t_rs.best_score_)\n",
    "print(\"Best parameters: \", adaboost_t_rs.best_params_)"
   ]
  },
  {
   "cell_type": "code",
   "execution_count": 107,
   "metadata": {},
   "outputs": [
    {
     "name": "stdout",
     "output_type": "stream",
     "text": [
      "RMSE (validation data):  1.8347632129691915\n",
      "RMSE (test data):  1.7773191039327447\n"
     ]
    }
   ],
   "source": [
    "# Fare prediction - final model\n",
    "\n",
    "adaboost_f_final = ensemble.AdaBoostRegressor(n_estimators = 150, loss = 'exponential', \n",
    "                                              learning_rate = 0.01, random_state = 42)\n",
    "\n",
    "adaboost_f_final.fit(x_train, y_train[\"fare_amount\"])\n",
    "\n",
    "y_pred_f_val = adaboost_f_final.predict(x_val)\n",
    "rmse = metrics.mean_squared_error(y_pred_f_val, y_val[\"fare_amount\"], squared = False)\n",
    "print(\"RMSE (validation data): \", rmse)\n",
    "\n",
    "y_pred_f_test = adaboost_f_final.predict(x_test)\n",
    "rmse = metrics.mean_squared_error(y_pred_f_test, y_test[\"fare_amount\"], squared = False)\n",
    "print(\"RMSE (test data): \", rmse)"
   ]
  },
  {
   "cell_type": "code",
   "execution_count": 108,
   "metadata": {},
   "outputs": [
    {
     "name": "stdout",
     "output_type": "stream",
     "text": [
      "RMSE (validation data):  0.7420342382222995\n",
      "RMSE (test data):  0.608906761326686\n"
     ]
    }
   ],
   "source": [
    "# Tip prediction - final model\n",
    "\n",
    "adaboost_t_final = ensemble.AdaBoostRegressor(n_estimators = 250, loss = 'linear', \n",
    "                                              learning_rate = 0.001, random_state = 42)\n",
    "\n",
    "adaboost_t_final.fit(x_train, y_train[\"tip_amount\"])\n",
    "\n",
    "y_pred_t_val = adaboost_t_final.predict(x_val)\n",
    "rmse = metrics.mean_squared_error(y_pred_t_val, y_val[\"tip_amount\"], squared = False)\n",
    "print(\"RMSE (validation data): \", rmse)\n",
    "\n",
    "y_pred_t_test = adaboost_t_final.predict(x_test)\n",
    "rmse = metrics.mean_squared_error(y_pred_t_test, y_test[\"tip_amount\"], squared = False)\n",
    "print(\"RMSE (test data): \", rmse)"
   ]
  },
  {
   "cell_type": "code",
   "execution_count": 109,
   "metadata": {},
   "outputs": [
    {
     "data": {
      "text/plain": [
       "Text(0.5, 0, 'AdaBoost Feature Importance (Fare Prediction)')"
      ]
     },
     "execution_count": 109,
     "metadata": {},
     "output_type": "execute_result"
    },
    {
     "data": {
      "image/png": "[encoded data removed]",
      "text/plain": [
       "<Figure size 432x288 with 1 Axes>"
      ]
     },
     "metadata": {
      "needs_background": "light"
     },
     "output_type": "display_data"
    }
   ],
   "source": [
    "# Fare prediction - feature importance\n",
    "\n",
    "sorted_idx = adaboost_f_final.feature_importances_.argsort()\n",
    "plt.barh(x_val.columns[sorted_idx], adaboost_f_final.feature_importances_[sorted_idx])\n",
    "plt.xlabel(\"AdaBoost Feature Importance (Fare Prediction)\")"
   ]
  },
  {
   "cell_type": "code",
   "execution_count": 110,
   "metadata": {},
   "outputs": [
    {
     "data": {
      "text/plain": [
       "Text(0.5, 0, 'AdaBoost Feature Importance (Tip Prediction)')"
      ]
     },
     "execution_count": 110,
     "metadata": {},
     "output_type": "execute_result"
    },
    {
     "data": {
      "image/png": "[encoded data removed]",
      "text/plain": [
       "<Figure size 432x288 with 1 Axes>"
      ]
     },
     "metadata": {
      "needs_background": "light"
     },
     "output_type": "display_data"
    }
   ],
   "source": [
    "# Tip prediction - feature importance\n",
    "\n",
    "sorted_idx = adaboost_t_final.feature_importances_.argsort()\n",
    "plt.barh(x_val.columns[sorted_idx], adaboost_t_final.feature_importances_[sorted_idx])\n",
    "plt.xlabel(\"AdaBoost Feature Importance (Tip Prediction)\")"
   ]
  },
  {
   "cell_type": "markdown",
   "metadata": {},
   "source": [
    "##### Summary\n",
    "\n",
    "**AdaBoost**\n",
    "\n",
    "Objective metric on test:\n",
    "\n",
    "- Fare prediction: RMSE = 1.7773\n",
    "- Tip prediction: RMSE = 0.6089\n",
    "\n",
    "Parameters: \n",
    "\n",
    "- Fare prediction: n_estimators = 150, loss = 'exponential', learning_rate = 0.01\n",
    "- Tip prediction: n_estimators = 250, loss = 'linear', learning_rate = 0.001\n",
    "\n",
    "Top 5 features:\n",
    "\n",
    "- Fare prediction: trip duration, trip distance\n",
    "- Tip prediction: payment type (credit), trip duration"
   ]
  },
  {
   "cell_type": "markdown",
   "metadata": {},
   "source": [
    "#### Gradient Boosting Regressor\n",
    "\n",
    "Lastly, we repeat the same steps for Gradient Boosting Regressor."
   ]
  },
  {
   "cell_type": "code",
   "execution_count": 111,
   "metadata": {},
   "outputs": [
    {
     "name": "stdout",
     "output_type": "stream",
     "text": [
      "RMSE:  1.1749625963958612\n"
     ]
    }
   ],
   "source": [
    "# Fare prediction - baseline model\n",
    "\n",
    "gboost_f = ensemble.GradientBoostingRegressor(random_state = 42)\n",
    "gboost_f.fit(x_train, y_train[\"fare_amount\"])\n",
    "\n",
    "y_pred_f = gboost_f.predict(x_val)\n",
    "rmse = metrics.mean_squared_error(y_pred_f, y_val[\"fare_amount\"], squared = False)\n",
    "print(\"RMSE: \", rmse)"
   ]
  },
  {
   "cell_type": "code",
   "execution_count": 112,
   "metadata": {},
   "outputs": [
    {
     "name": "stdout",
     "output_type": "stream",
     "text": [
      "RMSE:  0.7124399710346739\n"
     ]
    }
   ],
   "source": [
    "# Tip prediction - baseline model\n",
    "\n",
    "gboost_t = ensemble.GradientBoostingRegressor(random_state = 42)\n",
    "gboost_t.fit(x_train, y_train[\"tip_amount\"])\n",
    "\n",
    "y_pred_t = gboost_t.predict(x_val)\n",
    "rmse = metrics.mean_squared_error(y_pred_t, y_val[\"tip_amount\"], squared = False)\n",
    "print(\"RMSE: \", rmse)"
   ]
  },
  {
   "cell_type": "code",
   "execution_count": 113,
   "metadata": {},
   "outputs": [
    {
     "name": "stdout",
     "output_type": "stream",
     "text": [
      "{'learning_rate': [0.0001, 0.001, 0.01, 0.1, 1], 'n_estimators': [10, 50, 100, 150, 200, 250, 300], 'max_depth': [1, 2, 5, 8]}\n"
     ]
    }
   ],
   "source": [
    "param_grid = {\n",
    "    # Learning rate\n",
    "    'learning_rate': [0.0001, 0.001, 0.01, 0.1, 1],\n",
    "    # Number of boosting estimators\n",
    "    'n_estimators': [10, 50, 100, 150, 200, 250, 300],  \n",
    "    # Maximum depth of individual regression estimators\n",
    "    'max_depth': [1, 2, 5, 8]\n",
    "}\n",
    "\n",
    "print(param_grid)"
   ]
  },
  {
   "cell_type": "code",
   "execution_count": 114,
   "metadata": {},
   "outputs": [
    {
     "name": "stdout",
     "output_type": "stream",
     "text": [
      "Fitting 3 folds for each of 30 candidates, totalling 90 fits\n"
     ]
    },
    {
     "name": "stderr",
     "output_type": "stream",
     "text": [
      "[Parallel(n_jobs=-1)]: Using backend LokyBackend with 8 concurrent workers.\n",
      "[Parallel(n_jobs=-1)]: Done  25 tasks      | elapsed:  3.0min\n",
      "[Parallel(n_jobs=-1)]: Done  90 out of  90 | elapsed: 14.4min finished\n"
     ]
    },
    {
     "data": {
      "text/plain": [
       "RandomizedSearchCV(cv=3, estimator=GradientBoostingRegressor(), n_iter=30,\n",
       "                   n_jobs=-1,\n",
       "                   param_distributions={'learning_rate': [0.0001, 0.001, 0.01,\n",
       "                                                          0.1, 1],\n",
       "                                        'max_depth': [1, 2, 5, 8],\n",
       "                                        'n_estimators': [10, 50, 100, 150, 200,\n",
       "                                                         250, 300]},\n",
       "                   random_state=42, scoring='neg_root_mean_squared_error',\n",
       "                   verbose=2)"
      ]
     },
     "execution_count": 114,
     "metadata": {},
     "output_type": "execute_result"
    }
   ],
   "source": [
    "# Fare prediction - random search\n",
    "\n",
    "gb_x_data = x_trainval.sample(100_000, random_state = 42)\n",
    "gb_y_data = y_trainval[\"fare_amount\"].sample(100_000, random_state = 42)\n",
    "\n",
    "gboost_f_rs = model_selection.RandomizedSearchCV(ensemble.GradientBoostingRegressor(), param_grid, n_jobs = -1, \n",
    "                                                 scoring = 'neg_root_mean_squared_error', cv = 3, \n",
    "                                                 n_iter = 30, verbose = 2, random_state=42)\n",
    "\n",
    "gboost_f_rs.fit(gb_x_data, gb_y_data)"
   ]
  },
  {
   "cell_type": "code",
   "execution_count": 115,
   "metadata": {},
   "outputs": [
    {
     "name": "stdout",
     "output_type": "stream",
     "text": [
      "Best score:  -1.1352278734378558\n",
      "Best parameters:  {'n_estimators': 300, 'max_depth': 5, 'learning_rate': 0.1}\n"
     ]
    }
   ],
   "source": [
    "print(\"Best score: \", gboost_f_rs.best_score_)\n",
    "print(\"Best parameters: \", gboost_f_rs.best_params_)"
   ]
  },
  {
   "cell_type": "code",
   "execution_count": 116,
   "metadata": {},
   "outputs": [
    {
     "name": "stdout",
     "output_type": "stream",
     "text": [
      "Fitting 3 folds for each of 30 candidates, totalling 90 fits\n"
     ]
    },
    {
     "name": "stderr",
     "output_type": "stream",
     "text": [
      "[Parallel(n_jobs=-1)]: Using backend LokyBackend with 8 concurrent workers.\n",
      "[Parallel(n_jobs=-1)]: Done  25 tasks      | elapsed:  8.0min\n",
      "[Parallel(n_jobs=-1)]: Done  90 out of  90 | elapsed: 35.0min finished\n"
     ]
    },
    {
     "data": {
      "text/plain": [
       "RandomizedSearchCV(cv=3, estimator=GradientBoostingRegressor(), n_iter=30,\n",
       "                   n_jobs=-1,\n",
       "                   param_distributions={'learning_rate': [0.0001, 0.001, 0.01,\n",
       "                                                          0.1, 1],\n",
       "                                        'max_depth': [1, 2, 5, 8],\n",
       "                                        'n_estimators': [10, 50, 100, 150, 200,\n",
       "                                                         250, 300]},\n",
       "                   random_state=42, scoring='neg_root_mean_squared_error',\n",
       "                   verbose=2)"
      ]
     },
     "execution_count": 116,
     "metadata": {},
     "output_type": "execute_result"
    }
   ],
   "source": [
    "# Tip prediction - random search\n",
    "\n",
    "gb_x_data = x_trainval.sample(100_000, random_state = 42)\n",
    "gb_y_data = y_trainval[\"tip_amount\"].sample(100_000, random_state = 42)\n",
    "\n",
    "gboost_t_rs = model_selection.RandomizedSearchCV(ensemble.GradientBoostingRegressor(), param_grid, n_jobs = -1, \n",
    "                                                 scoring = 'neg_root_mean_squared_error', cv = 3, \n",
    "                                                 n_iter = 30, verbose = 2, random_state=42)\n",
    "\n",
    "gboost_t_rs.fit(gb_x_data, gb_y_data)"
   ]
  },
  {
   "cell_type": "code",
   "execution_count": 117,
   "metadata": {},
   "outputs": [
    {
     "name": "stdout",
     "output_type": "stream",
     "text": [
      "Best score:  -0.6880830951060924\n",
      "Best parameters:  {'n_estimators': 300, 'max_depth': 5, 'learning_rate': 0.1}\n"
     ]
    }
   ],
   "source": [
    "print(\"Best score: \", gboost_t_rs.best_score_)\n",
    "print(\"Best parameters: \", gboost_t_rs.best_params_)"
   ]
  },
  {
   "cell_type": "code",
   "execution_count": 119,
   "metadata": {},
   "outputs": [
    {
     "name": "stdout",
     "output_type": "stream",
     "text": [
      "RMSE (validation data):  1.084799050095842\n",
      "RMSE (test data):  0.9966700038511207\n"
     ]
    }
   ],
   "source": [
    "# Fare prediction - final model\n",
    "\n",
    "gboost_f_final = ensemble.GradientBoostingRegressor(n_estimators = 300, max_depth = 5, \n",
    "                                                    learning_rate = 0.1, random_state = 42)\n",
    "\n",
    "gboost_f_final.fit(x_train, y_train[\"fare_amount\"])\n",
    "\n",
    "y_pred_f_val = gboost_f_final.predict(x_val)\n",
    "rmse = metrics.mean_squared_error(y_pred_f_val, y_val[\"fare_amount\"], squared = False)\n",
    "print(\"RMSE (validation data): \", rmse)\n",
    "\n",
    "y_pred_f_test = gboost_f_final.predict(x_test)\n",
    "rmse = metrics.mean_squared_error(y_pred_f_test, y_test[\"fare_amount\"], squared = False)\n",
    "print(\"RMSE (test data): \", rmse)"
   ]
  },
  {
   "cell_type": "code",
   "execution_count": 120,
   "metadata": {},
   "outputs": [
    {
     "name": "stdout",
     "output_type": "stream",
     "text": [
      "RMSE (validation data):  0.7147477856174413\n",
      "RMSE (test data):  0.5739220673129376\n"
     ]
    }
   ],
   "source": [
    "# Tip prediction - final model\n",
    "\n",
    "gboost_t_final = ensemble.GradientBoostingRegressor(n_estimators = 300, max_depth = 5, \n",
    "                                                    learning_rate = 0.1, random_state = 42)\n",
    "\n",
    "gboost_t_final.fit(x_train, y_train[\"tip_amount\"])\n",
    "\n",
    "y_pred_t_val = gboost_t_final.predict(x_val)\n",
    "rmse = metrics.mean_squared_error(y_pred_t_val, y_val[\"tip_amount\"], squared = False)\n",
    "print(\"RMSE (validation data): \", rmse)\n",
    "\n",
    "y_pred_t_test = gboost_t_final.predict(x_test)\n",
    "rmse = metrics.mean_squared_error(y_pred_t_test, y_test[\"tip_amount\"], squared = False)\n",
    "print(\"RMSE (test data): \", rmse)"
   ]
  },
  {
   "cell_type": "code",
   "execution_count": 121,
   "metadata": {},
   "outputs": [
    {
     "data": {
      "text/plain": [
       "Text(0.5, 0, 'Gradient Boosting Feature Importance (Fare Prediction)')"
      ]
     },
     "execution_count": 121,
     "metadata": {},
     "output_type": "execute_result"
    },
    {
     "data": {
      "image/png": "[encoded data removed]",
      "text/plain": [
       "<Figure size 432x288 with 1 Axes>"
      ]
     },
     "metadata": {
      "needs_background": "light"
     },
     "output_type": "display_data"
    }
   ],
   "source": [
    "# Fare prediction - feature importance\n",
    "\n",
    "sorted_idx = gboost_f_final.feature_importances_.argsort()\n",
    "plt.barh(x_val.columns[sorted_idx], gboost_f_final.feature_importances_[sorted_idx])\n",
    "plt.xlabel(\"Gradient Boosting Feature Importance (Fare Prediction)\")"
   ]
  },
  {
   "cell_type": "code",
   "execution_count": 122,
   "metadata": {},
   "outputs": [
    {
     "data": {
      "text/plain": [
       "Text(0.5, 0, 'Gradient Feature Importance (Tip Prediction)')"
      ]
     },
     "execution_count": 122,
     "metadata": {},
     "output_type": "execute_result"
    },
    {
     "data": {
      "image/png": "[encoded data removed]",
      "text/plain": [
       "<Figure size 432x288 with 1 Axes>"
      ]
     },
     "metadata": {
      "needs_background": "light"
     },
     "output_type": "display_data"
    }
   ],
   "source": [
    "# Tip prediction - feature importance\n",
    "\n",
    "sorted_idx = gboost_t_final.feature_importances_.argsort()\n",
    "plt.barh(x_val.columns[sorted_idx], gboost_t_final.feature_importances_[sorted_idx])\n",
    "plt.xlabel(\"Gradient Feature Importance (Tip Prediction)\")"
   ]
  },
  {
   "cell_type": "markdown",
   "metadata": {},
   "source": [
    "##### Summary\n",
    "\n",
    "**Gradient Boosting**\n",
    "\n",
    "Objective metric on test:\n",
    "\n",
    "- Fare prediction: RMSE = 0.9967\n",
    "- Tip prediction: RMSE = 0.5739\n",
    "\n",
    "Parameters: \n",
    "\n",
    "- Fare prediction: n_estimators = 300, max_depth = 5, learning_rate = 0.1\n",
    "- Tip prediction: n_estimators = 300, max_depth = 5, learning_rate = 0.1\n",
    "\n",
    "Top 5 features:\n",
    "\n",
    "- Fare prediction: trip duration, trip distance, year, pick-up latitude, pick-up longitude\n",
    "- Tip prediction: payment type (credit), trip duration, trip distance, pick-up latitude, year"
   ]
  },
  {
   "cell_type": "markdown",
   "metadata": {},
   "source": [
    "### Overall summary\n",
    "\n",
    "#### RMSE performance\n",
    "\n",
    "For fare prediction, Gradient Boosting was the best performing model, followed by Random Forest and finally AdaBoost. The RMSE scores for the 3 ensemble methods are detailed below.\n",
    "\n",
    "- Random Forest: 1.0597\n",
    "- AdaBoost: 1.7773\n",
    "- Gradient Boosting: 0.9967\n",
    "\n",
    "For tip prediction, RMSE scores were much closer for all three models. Random Forest was the best performing model, followed by Gradient Boosting and then AdaBoost.\n",
    "\n",
    "- Random Forest: 0.5724\n",
    "- AdaBoost: 0.6089\n",
    "- Gradient Boosting: 0.5739\n",
    "\n",
    "#### Feature importance\n",
    "\n",
    "For fare prediction, trip duration and trip distance were the most important features across all three models. For the remaining features, year and location data were also identified as important features.\n",
    "\n",
    "| Classifier | RandomForest | AdaBoost | GradientBoosting |\n",
    "| --- | --- | --- | --- |\n",
    "| Feature 1 | Trip duration | Trip duration | Trip duration\n",
    "| Feature 2 | Trip distance | Trip distance | Trip distance\n",
    "| Feature 3 | Year | - | Year\n",
    "| Feature 4 | Drop-off longitude | - | Pick-up latitude\n",
    "| Feature 5 | Drop-off latitude | - | Pick-up longitude\n",
    "\n",
    "For tip prediction, payment type was identified as the most importnat feature across all the models. Trip duration and trip distance also ranked highly as important variables. \n",
    "\n",
    "| Classifier | RandomForest | AdaBoost | GradientBoosting |\n",
    "| --- | --- | --- | --- |\n",
    "| Feature 1 | Payment type (cash) | Payment type (credit) | Payment type (credit)\n",
    "| Feature 2 | Payment type (credit) | Trip duration | Trip duration\n",
    "| Feature 3 | Trip duration | - | Trip distance\n",
    "| Feature 4 | Trip distance | - | Pick-up latitude\n",
    "| Feature 5 | Drop-off longitude | - | Year\n",
    "\n",
    "#### Potential improvements\n",
    "\n",
    "Due to the computationally expensive nature of performing Random Search for hyperparameter tuning, the number of iterations was set at a lower number of 30, and 3-fold cross validation was performed. However, given more iterations of Random Search (or Grid Search), even more optimal parameters could potentially be identified to further reduce the RMSE scores."
   ]
  }
 ],
 "metadata": {
  "kernelspec": {
   "display_name": "Python 3",
   "language": "python",
   "name": "python3"
  },
  "language_info": {
   "codemirror_mode": {
    "name": "ipython",
    "version": 3
   },
   "file_extension": ".py",
   "mimetype": "text/x-python",
   "name": "python",
   "nbconvert_exporter": "python",
   "pygments_lexer": "ipython3",
   "version": "3.8.5"
  }
 },
 "nbformat": 4,
 "nbformat_minor": 2
}
